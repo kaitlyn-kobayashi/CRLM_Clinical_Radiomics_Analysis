{
 "cells": [
  {
   "cell_type": "markdown",
   "id": "fe006897",
   "metadata": {},
   "source": [
    "# Example Setups for Model Creation"
   ]
  },
  {
   "cell_type": "markdown",
   "id": "8418ffbb",
   "metadata": {},
   "source": [
    "The following scripts show the structure of the code to be run for specific parts of the survival modelling pipeline. These are not meant to be functional, but are created to give guidance on how to set up the pipeline to run for tuning, training, and evaluation. This code assumes that the specific preprocessing steps have been followed. "
   ]
  },
  {
   "cell_type": "markdown",
   "id": "3efdebef",
   "metadata": {},
   "source": [
    "## Hyperparemeter Tuning (Unimodal)"
   ]
  },
  {
   "cell_type": "code",
   "execution_count": null,
   "id": "13cf8ba4",
   "metadata": {},
   "outputs": [],
   "source": [
    "# Unimodal Hyperparameter Tuning\n",
    "import pandas as pd \n",
    "from all_purpose_hp_tuning import HyperparameterTuner\n",
    "from joblib import Parallel, delayed\n",
    "\n",
    "data_root_path = \"path/to/parent_dir_of_survival_data\" #Structure within this folder outlined in the main README.md\n",
    "\n",
    "#Specify models you would like to tune on which data. \n",
    "#If only one entry in each list, this will tune one model. \n",
    "#If multiple entries in lists, this will tune all possible model combinations. \n",
    "hp_tuner = HyperparameterTuner(root_path = data_root_path,\n",
    "                             model_types = ['cph'], #Pick the type of model you would like to create. Supports cph, ssvm_ker (kernel ssvm), and rsf\n",
    "                             surv_types = ['OS', 'HDFS'], #Corresponds to the prefix(es) in the file names describing clinical endpoint\n",
    "                             feature_types = ['clin', 'rad'], #The types of features used to create separate unimodal models (these are in the corresponding file names)\n",
    "                             combat_types = ['0', '1'] #This parameter was for a separate experiment not included in the paper. Just checks for additional prefix in file name.\n",
    "                             )\n",
    "hp_tuner.generate_run_params() #Creates parameter grids for each model requested\n",
    "\n",
    "#Run hyperparameter tuning with parallelization to tune multiple models at once.\n",
    "hp_tuning_results = Parallel(n_jobs = 4, verbose = 10)(delayed(hp_tuner.run_grid_hp_tuning)(param_idx) for param_idx in range(hp_tuner.run_parameters.shape[0]))\n",
    "\n",
    "#Combine all model results into one dataframe for further modelling\n",
    "hp_tuner_results = pd.DataFrame()\n",
    "for model, result in hp_tuning_results:\n",
    "    hp_tuner_results = pd.concat([hp_tuner_results, result], axis = 0)\n",
    "\n",
    "hp_tuner_results #Visualize what the hyperparameter grid will look like"
   ]
  },
  {
   "cell_type": "markdown",
   "id": "b3eeb79f",
   "metadata": {},
   "source": [
    "## Hyperparameter Tuning (Multimodal)"
   ]
  },
  {
   "cell_type": "code",
   "execution_count": null,
   "id": "2df41727",
   "metadata": {},
   "outputs": [],
   "source": [
    "import pandas as pd\n",
    "from all_purpose_hp_tuning import HyperparameterTuner\n",
    "from joblib import Parallel, delayed\n",
    "\n",
    "#Unimodal model hyperparameter tuning should have been executed prior to running this\n",
    "#This will, however, create the unimodal models so you don't have to save the outputted risks separately\n",
    "\n",
    "data_root_path = \"path/to/parent_dir_of_survival_data\" #Structure within this folder outlined in the main README.md\n",
    "parameter_path = \"path/to/parent_dir_of_survival_data/Late_Fusion_Param_Grids/Late_Param_Grid.csv\" #Contains all parameter grids in json format, one parameter grid per row\n",
    "\n",
    "param_grid = pd.read_csv(parameter_path) #Read in parameter grid data\n",
    "\n",
    "#Specify models and data you would like to use for late fusion\n",
    "#Here, model types refers to the model used to combine the risk scores of two or more unimodal models. \n",
    "#Mirrors the setup for the unimodal hyperparameter tuning (more descriptions of the variables in that section)\n",
    "late_hp = HyperparameterTuner(root_path = data_root_path, \n",
    "                              model_types = ['cph'], \n",
    "                              surv_types = ['OS', 'HDFS'], \n",
    "                              feature_types = ['risk'], \n",
    "                              combat_types = ['0'])\n",
    "late_hp.generate_run_params()\n",
    "late_hp_results = Parallel(n_jobs = 2, verbose = 10)(delayed(late_hp.run_late_grid_hp_tuning)(param_idx, param_grid) for param_idx in range(late_hp.run_parameters.shape[0]))\n",
    "\n",
    "hp_tuner_results = pd.DataFrame()\n",
    "for result in late_hp_results: \n",
    "    hp_tuner_results = pd.concat([hp_tuner_results, result], axis = 0)\n",
    "\n",
    "hp_tuner_results #Visualize output of multimodal hyperparameter tuning"
   ]
  },
  {
   "cell_type": "markdown",
   "id": "d3aabe0b",
   "metadata": {},
   "source": [
    "## Unimodal Model Training and Evaluation"
   ]
  },
  {
   "cell_type": "code",
   "execution_count": null,
   "id": "fb26341c",
   "metadata": {},
   "outputs": [],
   "source": [
    "from survival_model import SurvivalModel\n",
    "\n",
    "#Assumes hyperparameter tuning has been run and the hyperparameter tuning file is accessible in the data structure\n",
    "\n",
    "data_root_path = \"path/to/parent_dir_of_survival_data\" #Structure within this folder outlined in the main README.md\n",
    "\n",
    "#This is to train one model. If you would like to train multiple models, this can be done by looping over each row of\n",
    "#information in the hyperparameter tuning file. \n",
    "curr_model = SurvivalModel.create_model(model_type = 'cph', #Can also be rsf or ssvm_ker\n",
    "                                        root_path = data_root_path, \n",
    "                                        surv_type = 'OS', \n",
    "                                        feature_type = 'rad',\n",
    "                                        combat = '0',\n",
    "                                        feat_filt = 'Clin_' #regex term to filter features to subset containing this string\n",
    "                                        )\n",
    "\n",
    "curr_model.train() #Train model based on inputted parameters above\n",
    "curr_model.bootstrap(iter_num = 500) #Number of bootstrap iterations to run\n",
    "curr_model.calc_conf(conf_interval = 0.95) #Calculate confidence interval of performance metrics\n",
    "\n",
    "curr_model.med_test_U #Will output the median Uno's C testing performance. Other metrics are accessible (see calc_conf)"
   ]
  },
  {
   "cell_type": "markdown",
   "id": "3eaad8ef",
   "metadata": {},
   "source": [
    "## Late Fusion Model Training and Evaluation"
   ]
  },
  {
   "cell_type": "code",
   "execution_count": null,
   "id": "5e3b3c09",
   "metadata": {},
   "outputs": [],
   "source": [
    "from survival_model import LateFusionModel\n",
    "\n",
    "#Assumes hyperparameter tuning has been run and the hyperparameter tuning file is accessible in the data structure\n",
    "\n",
    "data_root_path = \"path/to/parent_dir_of_survival_data\" #Structure within this folder outlined in the main README.md\n",
    "parameter_path = \"path/to/parent_dir_of_survival_data/Late_Fusion_Param_Grids/Late_Param_Grid.csv\" #Contains all parameter grids in json format, one parameter grid per row\n",
    "\n",
    "param_grid = pd.read_csv(parameter_path) #Read in parameter grid data\n",
    "\n",
    "#This is to train one model. If you would like to train multiple models, this can be done by looping over each row of\n",
    "#information in the late fusion hyperparameter tuning file. \n",
    "\n",
    "#Format is similar to the unimodal training, with a similar training setup for late fusion hyperparameter tuning.\n",
    "#For more information on input variables, please refer to those sections.\n",
    "lf_mod = LateFusionModel(root_path = data_root_path, \n",
    "                        model_type = 'cph', \n",
    "                        surv_type = 'OS',  \n",
    "                        combat = '0')\n",
    "\n",
    "lf_mod.set_first_layer(parameter_grid = param_grid)\n",
    "lf_mod.train(late_params = param_grid)\n",
    "lf_mod.bootstrap(iter_num = 500)\n",
    "lf_mod.calc_conf(conf_interval = 0.95) #The same metrics available for unimodal modelling are also available here"
   ]
  }
 ],
 "metadata": {
  "language_info": {
   "name": "python"
  }
 },
 "nbformat": 4,
 "nbformat_minor": 5
}
